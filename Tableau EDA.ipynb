{
 "cells": [
  {
   "cell_type": "markdown",
   "metadata": {},
   "source": [
    "# 반한류 데이터 시각화"
   ]
  },
  {
   "cell_type": "markdown",
   "metadata": {},
   "source": [
    "### 연령별 반한류 원인"
   ]
  },
  {
   "cell_type": "code",
   "execution_count": 39,
   "metadata": {},
   "outputs": [
    {
     "data": {
      "text/html": [
       "\n",
       "        <iframe\n",
       "            width=\"1000\"\n",
       "            height=\"1000\"\n",
       "            src=\"https://public.tableau.com/views/_17280869455620/1_1?:language=ko-KR&:sid=&:redirect=auth&:display_count=n&:origin=viz_share_link:showVizHome=no&:embed=true\"\n",
       "            frameborder=\"0\"\n",
       "            allowfullscreen\n",
       "            \n",
       "        ></iframe>\n",
       "        "
      ],
      "text/plain": [
       "<IPython.lib.display.IFrame at 0x1fc0ec15990>"
      ]
     },
     "execution_count": 39,
     "metadata": {},
     "output_type": "execute_result"
    }
   ],
   "source": [
    "from IPython.display import IFrame\n",
    "\n",
    "tableau_url= \"https://public.tableau.com/views/_17280869455620/1_1?:language=ko-KR&:sid=&:redirect=auth&:display_count=n&:origin=viz_share_link:showVizHome=no&:embed=true\"\n",
    "IFrame(src=tableau_url, width=1000, height=1000)"
   ]
  },
  {
   "cell_type": "markdown",
   "metadata": {},
   "source": [
    "- 공통적으로 k-pop은 굉장히 상업적이라고 인식한다.\n",
    "- 나이가 적을수록, k-pop이 획일적이고 식상하다고 느낀다.\n",
    "- 나이가 적을수록, 한류스타의 부적절한 언행을 문제삼는다.\n",
    "- 나이가 많을수록, 한국의 국민성에 문제가있다고 생각한다.\n",
    "\n",
    "**나이가 적은그룹은 kpop의 문제점을 느끼고, 나이가 많은 그룹은 한국의 국민성에 부정적이다.**"
   ]
  },
  {
   "cell_type": "markdown",
   "metadata": {},
   "source": [
    "### 반한류 원인 워드클라우드"
   ]
  },
  {
   "cell_type": "code",
   "execution_count": 40,
   "metadata": {},
   "outputs": [
    {
     "data": {
      "text/html": [
       "\n",
       "        <iframe\n",
       "            width=\"1000\"\n",
       "            height=\"600\"\n",
       "            src=\"https://public.tableau.com/views/_17280871494030/9?:language=ko-KR&:sid=&:redirect=auth&:display_count=n&:origin=viz_share_link:showVizHome=no&:embed=true\"\n",
       "            frameborder=\"0\"\n",
       "            allowfullscreen\n",
       "            \n",
       "        ></iframe>\n",
       "        "
      ],
      "text/plain": [
       "<IPython.lib.display.IFrame at 0x1fc0ec157b0>"
      ]
     },
     "execution_count": 40,
     "metadata": {},
     "output_type": "execute_result"
    }
   ],
   "source": [
    "tableau_url= \"https://public.tableau.com/views/_17280871494030/9?:language=ko-KR&:sid=&:redirect=auth&:display_count=n&:origin=viz_share_link:showVizHome=no&:embed=true\"\n",
    "IFrame(src=tableau_url, width=1000, height=600)"
   ]
  },
  {
   "cell_type": "markdown",
   "metadata": {},
   "source": [
    "가장 큰 이유들로는\n",
    "\n",
    "1. 지나치게 상업적\n",
    "2. 한국의 국민성 문제\n",
    "3. 지나치게 선정적\n",
    "4. 한국과의 역사적인 문제\n",
    "5. 획일적이고 식상함\n",
    "\n",
    "의 의견이있었다.\n",
    "\n",
    "**상업적이라는 의견과 한국의 국민성 문제에 문제점을 느낀다. 특히 젊은층에서 느끼고 있는 kpop의 상업적 이미지는 개선할 필요가 있다.**"
   ]
  },
  {
   "cell_type": "markdown",
   "metadata": {},
   "source": [
    "# 국가별 소비금액 데이터 시각화"
   ]
  },
  {
   "cell_type": "code",
   "execution_count": 41,
   "metadata": {},
   "outputs": [
    {
     "data": {
      "text/html": [
       "\n",
       "        <iframe\n",
       "            width=\"1000\"\n",
       "            height=\"600\"\n",
       "            src=\"https://public.tableau.com/views/_17280941327210/18?:language=ko-KR&:sid=&:redirect=auth&:display_count=n&:origin=viz_share_link:showVizHome=no&:embed=true\"\n",
       "            frameborder=\"0\"\n",
       "            allowfullscreen\n",
       "            \n",
       "        ></iframe>\n",
       "        "
      ],
      "text/plain": [
       "<IPython.lib.display.IFrame at 0x1fc0ec17250>"
      ]
     },
     "execution_count": 41,
     "metadata": {},
     "output_type": "execute_result"
    }
   ],
   "source": [
    "tableau_url= \"https://public.tableau.com/views/_17280941327210/18?:language=ko-KR&:sid=&:redirect=auth&:display_count=n&:origin=viz_share_link:showVizHome=no&:embed=true\"\n",
    "IFrame(src=tableau_url, width=1000, height=600)"
   ]
  },
  {
   "cell_type": "markdown",
   "metadata": {},
   "source": [
    "총 소비량 순위로는\n",
    "\n",
    "1. 인도네시아\n",
    "\n",
    "2. 베트남\n",
    "\n",
    "3. 나머지\n",
    "\n",
    "**동남아시아 쪽의 소비량이 높은것을 알수있다.**"
   ]
  },
  {
   "cell_type": "markdown",
   "metadata": {},
   "source": [
    "### 베트남에서 k-pop 아티스트별 조회수"
   ]
  },
  {
   "cell_type": "code",
   "execution_count": 42,
   "metadata": {},
   "outputs": [
    {
     "data": {
      "text/html": [
       "\n",
       "        <iframe\n",
       "            width=\"1000\"\n",
       "            height=\"600\"\n",
       "            src=\"https://public.tableau.com/views/k-pop_17281384080620/19?:language=ko-KR&publish=yes&:sid=&:redirect=auth&:display_count=n&:origin=viz_share_link:showVizHome=no&:embed=true\"\n",
       "            frameborder=\"0\"\n",
       "            allowfullscreen\n",
       "            \n",
       "        ></iframe>\n",
       "        "
      ],
      "text/plain": [
       "<IPython.lib.display.IFrame at 0x1fc0ec16710>"
      ]
     },
     "execution_count": 42,
     "metadata": {},
     "output_type": "execute_result"
    }
   ],
   "source": [
    "tableau_url= \"https://public.tableau.com/views/k-pop_17281384080620/19?:language=ko-KR&publish=yes&:sid=&:redirect=auth&:display_count=n&:origin=viz_share_link:showVizHome=no&:embed=true\"\n",
    "IFrame(src=tableau_url, width=1000, height=600)"
   ]
  },
  {
   "cell_type": "markdown",
   "metadata": {},
   "source": [
    "베트남에서 블랙핑크의 인기가 방탄소년단과 비슷하다는것을 알수있다.\n",
    "\n",
    "베트남은 k-pop 소비량이 높은 국가로서 주목할 필요가 있다.\n",
    "\n",
    "**특히 베트남과 같은 국가에서는 블랙핑크의 인지도가 상당히 높다는 것을 알수있다.**"
   ]
  },
  {
   "cell_type": "markdown",
   "metadata": {},
   "source": [
    "# 미디어콘텐츠 영상 내 유명지 데이터(2023)\n"
   ]
  },
  {
   "cell_type": "markdown",
   "metadata": {},
   "source": [
    "### 전국 촬영지 정보"
   ]
  },
  {
   "cell_type": "code",
   "execution_count": 43,
   "metadata": {},
   "outputs": [
    {
     "data": {
      "text/html": [
       "\n",
       "        <iframe\n",
       "            width=\"1000\"\n",
       "            height=\"600\"\n",
       "            src=\"https://public.tableau.com/views/_17281424796940/4?:language=ko-KR&:sid=&:redirect=auth&:display_count=n&:origin=viz_share_link:showVizHome=no&:embed=true\"\n",
       "            frameborder=\"0\"\n",
       "            allowfullscreen\n",
       "            \n",
       "        ></iframe>\n",
       "        "
      ],
      "text/plain": [
       "<IPython.lib.display.IFrame at 0x1fc0ec17460>"
      ]
     },
     "execution_count": 43,
     "metadata": {},
     "output_type": "execute_result"
    }
   ],
   "source": [
    "tableau_url= \"https://public.tableau.com/views/_17281424796940/4?:language=ko-KR&:sid=&:redirect=auth&:display_count=n&:origin=viz_share_link:showVizHome=no&:embed=true\"\n",
    "IFrame(src=tableau_url, width=1000, height=600)"
   ]
  },
  {
   "cell_type": "markdown",
   "metadata": {},
   "source": [
    "촬영지는 서울과 경기도, 강원도 해안가, 부산, 제주도 에 집중되어있는것을 볼수있다.\n",
    "\n",
    "특히 드라마는 비교적 전국 골고루 촬영지를 가지고 있는것을 확인할수있다.\n",
    "\n",
    "그리고 영화 촬영지의 경우 제주도 촬영은 거의 이루어지지 않았다."
   ]
  },
  {
   "cell_type": "markdown",
   "metadata": {},
   "source": [
    "# 한류 키워드 데이터 시각화\n"
   ]
  },
  {
   "cell_type": "markdown",
   "metadata": {},
   "source": [
    "### k-culture 키워드 총 건수"
   ]
  },
  {
   "cell_type": "code",
   "execution_count": 44,
   "metadata": {},
   "outputs": [
    {
     "data": {
      "text/html": [
       "\n",
       "        <iframe\n",
       "            width=\"1000\"\n",
       "            height=\"600\"\n",
       "            src=\"https://public.tableau.com/views/k-culture/5?:language=ko-KR&:sid=&:redirect=auth&:display_count=n&:origin=viz_share_link:showVizHome=no&:embed=true\"\n",
       "            frameborder=\"0\"\n",
       "            allowfullscreen\n",
       "            \n",
       "        ></iframe>\n",
       "        "
      ],
      "text/plain": [
       "<IPython.lib.display.IFrame at 0x1fc0ec17370>"
      ]
     },
     "execution_count": 44,
     "metadata": {},
     "output_type": "execute_result"
    }
   ],
   "source": [
    "tableau_url= \"https://public.tableau.com/views/k-culture/5?:language=ko-KR&:sid=&:redirect=auth&:display_count=n&:origin=viz_share_link:showVizHome=no&:embed=true\"\n",
    "IFrame(src=tableau_url, width=1000, height=600)"
   ]
  },
  {
   "cell_type": "markdown",
   "metadata": {},
   "source": [
    "키워드 총 건수는 k팝, 올림픽, 서울, 방탄소년단, 슈가 가 많은것을 알수있고, 가중치 또한 비슷한 방향이지만, 방탄소년단의 가중치가 상당히 높은것을 볼수있다.\n",
    "\n",
    "이것을 보았을때, \n",
    "**방탄소년단의 인지도가 k-culture에 상당한 영향을 끼친다는것을 알수있고,그중에서도 슈가라는 멤버가 큰 비중을 가지고 있는것을 볼수있다.**"
   ]
  },
  {
   "cell_type": "markdown",
   "metadata": {},
   "source": [
    "### k-culture 가중치와 총 건수의 상관관계"
   ]
  },
  {
   "cell_type": "code",
   "execution_count": 45,
   "metadata": {},
   "outputs": [
    {
     "data": {
      "text/html": [
       "\n",
       "        <iframe\n",
       "            width=\"1000\"\n",
       "            height=\"600\"\n",
       "            src=\"https://public.tableau.com/views/k-culture_17281443890780/25?:language=ko-KR&:sid=&:redirect=auth&:display_count=n&:origin=viz_share_link:showVizHome=no&:embed=true\"\n",
       "            frameborder=\"0\"\n",
       "            allowfullscreen\n",
       "            \n",
       "        ></iframe>\n",
       "        "
      ],
      "text/plain": [
       "<IPython.lib.display.IFrame at 0x1fc0ec14580>"
      ]
     },
     "execution_count": 45,
     "metadata": {},
     "output_type": "execute_result"
    }
   ],
   "source": [
    "tableau_url= \"https://public.tableau.com/views/k-culture_17281443890780/25?:language=ko-KR&:sid=&:redirect=auth&:display_count=n&:origin=viz_share_link:showVizHome=no&:embed=true\"\n",
    "IFrame(src=tableau_url, width=1000, height=600)"
   ]
  },
  {
   "cell_type": "markdown",
   "metadata": {},
   "source": [
    "k-culture 키워드의 총건수와 가중치는 비교적 높은 상관관계를 가지고 있는것을 볼수있다."
   ]
  },
  {
   "cell_type": "code",
   "execution_count": 46,
   "metadata": {},
   "outputs": [
    {
     "data": {
      "text/html": [
       "\n",
       "        <iframe\n",
       "            width=\"1000\"\n",
       "            height=\"600\"\n",
       "            src=\"https://public.tableau.com/views/k-culture_17281445287280/26?:language=ko-KR&:sid=&:redirect=auth&:display_count=n&:origin=viz_share_link:showVizHome=no&:embed=true\"\n",
       "            frameborder=\"0\"\n",
       "            allowfullscreen\n",
       "            \n",
       "        ></iframe>\n",
       "        "
      ],
      "text/plain": [
       "<IPython.lib.display.IFrame at 0x1fc0ec145e0>"
      ]
     },
     "execution_count": 46,
     "metadata": {},
     "output_type": "execute_result"
    }
   ],
   "source": [
    "tableau_url= \"https://public.tableau.com/views/k-culture_17281445287280/26?:language=ko-KR&:sid=&:redirect=auth&:display_count=n&:origin=viz_share_link:showVizHome=no&:embed=true\"\n",
    "IFrame(src=tableau_url, width=1000, height=600)"
   ]
  },
  {
   "cell_type": "markdown",
   "metadata": {},
   "source": [
    "- **방탄소년단과 슈가의 비중이 상당한것을 알수있으며, 이외에도 태권도나 음식, 서울 도 큰 비중을 보여주고있다.**"
   ]
  },
  {
   "cell_type": "markdown",
   "metadata": {},
   "source": [
    "# 아티스트 데이터 시각화"
   ]
  },
  {
   "cell_type": "code",
   "execution_count": 47,
   "metadata": {},
   "outputs": [
    {
     "data": {
      "text/html": [
       "\n",
       "        <iframe\n",
       "            width=\"1000\"\n",
       "            height=\"600\"\n",
       "            src=\"https://public.tableau.com/views/_17313206373710/sheet2?:language=ko-KR&:sid=&:redirect=auth&:display_count=n&:origin=viz_share_link:language=ko-KR&:sid=&:redirect=auth&:display_count=n&:origin=viz_share_link:showVizHome=no&:embed=true\"\n",
       "            frameborder=\"0\"\n",
       "            allowfullscreen\n",
       "            \n",
       "        ></iframe>\n",
       "        "
      ],
      "text/plain": [
       "<IPython.lib.display.IFrame at 0x1fc0ec15870>"
      ]
     },
     "execution_count": 47,
     "metadata": {},
     "output_type": "execute_result"
    }
   ],
   "source": [
    "tableau_url= \"https://public.tableau.com/views/_17313206373710/sheet2?:language=ko-KR&:sid=&:redirect=auth&:display_count=n&:origin=viz_share_link:language=ko-KR&:sid=&:redirect=auth&:display_count=n&:origin=viz_share_link:showVizHome=no&:embed=true\"\n",
    "IFrame(src=tableau_url, width=1000, height=600)"
   ]
  },
  {
   "cell_type": "markdown",
   "metadata": {},
   "source": [
    "- 2020년에 엄청난 음악이 출판될것을 볼수있다. 이는 아마 코로나의 영향으로 보인다.\n",
    "\n",
    "- 2020년 이후에 비슷한 앨범의 개수가 유지되고있는것을 알수있다.\n",
    "\n",
    "- 아이유, 방탄소년단, 임영웅의 2020년 급격한 성장이 돋보인다. 하지만 이후 방탄소년단과 아이유는 급격한 하락추세이고, 임영웅도 약간의 하락을 겪는것을 볼수있다.\n",
    "\n",
    "- 아이유, 방탄소년단, 임영웅 이외에 가장 큰 성장세는 뉴진스로 보이고 있다. 그 다음은 아이브이고, 그 다음은 에스파이로 나온다. 하지만 에스파는 2년간 하락추세로 보이고 있다.\n",
    "\n",
    "**아이돌과 아티스트 사이의 세대교체가 이루어지고 있는것으로 볼수있다.**"
   ]
  },
  {
   "cell_type": "code",
   "execution_count": 48,
   "metadata": {},
   "outputs": [
    {
     "data": {
      "text/html": [
       "\n",
       "        <iframe\n",
       "            width=\"1000\"\n",
       "            height=\"600\"\n",
       "            src=\"https://public.tableau.com/views/_17313207148590/sheet8?:language=ko-KR&:sid=&:redirect=auth&:display_count=n&:origin=viz_share_link:language=ko-KR&:sid=&:redirect=auth&:display_count=n&:origin=viz_share_link:showVizHome=no&:embed=true\"\n",
       "            frameborder=\"0\"\n",
       "            allowfullscreen\n",
       "            \n",
       "        ></iframe>\n",
       "        "
      ],
      "text/plain": [
       "<IPython.lib.display.IFrame at 0x1fc0ec16530>"
      ]
     },
     "execution_count": 48,
     "metadata": {},
     "output_type": "execute_result"
    }
   ],
   "source": [
    "tableau_url= \"https://public.tableau.com/views/_17313207148590/sheet8?:language=ko-KR&:sid=&:redirect=auth&:display_count=n&:origin=viz_share_link:language=ko-KR&:sid=&:redirect=auth&:display_count=n&:origin=viz_share_link:showVizHome=no&:embed=true\"\n",
    "IFrame(src=tableau_url, width=1000, height=600)"
   ]
  },
  {
   "cell_type": "markdown",
   "metadata": {},
   "source": [
    "- 대체로 아이돌의 위치가 랭킹과 시간 상관성 추세선 아래에 위치해 있다. 이를 보아, 아이돌의 랭킹 유지 기간이 평균보다 짧은것을 볼수있다. 이는 빠르게 돌아가는 아이돌의 시장의 특수성으로 보인다. "
   ]
  },
  {
   "cell_type": "code",
   "execution_count": 49,
   "metadata": {},
   "outputs": [
    {
     "data": {
      "text/html": [
       "\n",
       "        <iframe\n",
       "            width=\"1000\"\n",
       "            height=\"600\"\n",
       "            src=\"https://public.tableau.com/views/_17313208423090/9?:language=ko-KR&:sid=&:redirect=auth&:display_count=n&:origin=viz_share_link:showVizHome=no&:embed=true\"\n",
       "            frameborder=\"0\"\n",
       "            allowfullscreen\n",
       "            \n",
       "        ></iframe>\n",
       "        "
      ],
      "text/plain": [
       "<IPython.lib.display.IFrame at 0x1fc0ec173d0>"
      ]
     },
     "execution_count": 49,
     "metadata": {},
     "output_type": "execute_result"
    }
   ],
   "source": [
    "tableau_url= \"https://public.tableau.com/views/_17313208423090/9?:language=ko-KR&:sid=&:redirect=auth&:display_count=n&:origin=viz_share_link:showVizHome=no&:embed=true\"\n",
    "IFrame(src=tableau_url, width=1000, height=600)"
   ]
  },
  {
   "cell_type": "markdown",
   "metadata": {},
   "source": [
    "- 2017년부터 2020년까지는 아이돌보다 폴킴, 볼빨간사춘기 같은 가수가 강세였고, 2021년부터 아이돌이 강세인것을 알수있다. 특히 2023년에는 아이브와 뉴진스 강세가 눈에띄며, 특히 뉴진스의 상당한 앨범의 수를 볼수있다."
   ]
  },
  {
   "cell_type": "markdown",
   "metadata": {},
   "source": [
    "# 드라마 및 채널 데이터 시각화"
   ]
  },
  {
   "cell_type": "code",
   "execution_count": 50,
   "metadata": {},
   "outputs": [
    {
     "data": {
      "text/html": [
       "\n",
       "        <iframe\n",
       "            width=\"1000\"\n",
       "            height=\"600\"\n",
       "            src=\"https://public.tableau.com/views/_17313872009840/1_1?:language=ko-KR&:sid=&:redirect=auth&:display_count=n&:origin=viz_share_link:showVizHome=no&:embed=true\"\n",
       "            frameborder=\"0\"\n",
       "            allowfullscreen\n",
       "            \n",
       "        ></iframe>\n",
       "        "
      ],
      "text/plain": [
       "<IPython.lib.display.IFrame at 0x1fc0ec17580>"
      ]
     },
     "execution_count": 50,
     "metadata": {},
     "output_type": "execute_result"
    }
   ],
   "source": [
    "tableau_url= \"https://public.tableau.com/views/_17313872009840/1_1?:language=ko-KR&:sid=&:redirect=auth&:display_count=n&:origin=viz_share_link:showVizHome=no&:embed=true\"\n",
    "IFrame(src=tableau_url, width=1000, height=600)"
   ]
  },
  {
   "cell_type": "markdown",
   "metadata": {},
   "source": [
    "- 전체적으로 kbs의 점유율이 상당히 높은것을 볼수있다.\n",
    "\n",
    "- **젊은층은 비교적 정규방송에 비중이 높다. 나이대가 올라갈수록 채널의 다양성이 증가하는것을 볼수있다.**"
   ]
  },
  {
   "cell_type": "code",
   "execution_count": 51,
   "metadata": {},
   "outputs": [
    {
     "data": {
      "text/html": [
       "\n",
       "        <iframe\n",
       "            width=\"1000\"\n",
       "            height=\"600\"\n",
       "            src=\"https://public.tableau.com/views/_17313873135130/2_1?:language=ko-KR&:sid=&:redirect=auth&:display_count=n&:origin=viz_share_link:showVizHome=no&:embed=true\"\n",
       "            frameborder=\"0\"\n",
       "            allowfullscreen\n",
       "            \n",
       "        ></iframe>\n",
       "        "
      ],
      "text/plain": [
       "<IPython.lib.display.IFrame at 0x1fc0ec16680>"
      ]
     },
     "execution_count": 51,
     "metadata": {},
     "output_type": "execute_result"
    }
   ],
   "source": [
    "tableau_url= \"https://public.tableau.com/views/_17313873135130/2_1?:language=ko-KR&:sid=&:redirect=auth&:display_count=n&:origin=viz_share_link:showVizHome=no&:embed=true\"\n",
    "IFrame(src=tableau_url, width=1000, height=600)"
   ]
  },
  {
   "cell_type": "markdown",
   "metadata": {},
   "source": [
    "- 정규방송의 성별 시청률 차이는 작지만, 몇몇의 채널은 뚜렷한 성별 시청률 차이를 보여준다.\n",
    "\n",
    "- tvn은 10~30대 사이에서는 여성의 시청자가 높은것을 볼수있다. 이는 여성들 사이에서 유행하는 드라마가 tvn에서 많이 방영을 하기때문으로 보인다.\n",
    "\n",
    "- **이외의 kbs drama나 dramacube같은 드라마 전용 채널은 비교적 남성의 시청률이 높은것으로 나타난다. 이는 주로 드라마 재방송이 방영하기 때문에 본방을 볼수있는 tvn같은 채널들은 여성 시청률이높고, 과거의 드라마나 재방송이 이루어지는 드라마 전용 채널들은 남성의 시청자 층이 높은것을 볼수있다.**\n",
    "\n",
    "- **젊은 층에서는 남성과 여성의 채널별 차이가 비교적 뚜렷하게 나타난다. 이에 반해 40대이상부터는 성별에 따른 채널의 차이가 거의 나타나지 않는다. 이는 젊은 층일수록, 성별간의 채널 시청률의 차이가 뚜렷하다는것을 볼수있다.**"
   ]
  },
  {
   "cell_type": "code",
   "execution_count": 52,
   "metadata": {},
   "outputs": [
    {
     "data": {
      "text/html": [
       "\n",
       "        <iframe\n",
       "            width=\"1000\"\n",
       "            height=\"600\"\n",
       "            src=\"https://public.tableau.com/views/_17313876300530/43?:language=ko-KR&:sid=&:redirect=auth&:display_count=n&:origin=viz_share_link:showVizHome=no&:embed=true\"\n",
       "            frameborder=\"0\"\n",
       "            allowfullscreen\n",
       "            \n",
       "        ></iframe>\n",
       "        "
      ],
      "text/plain": [
       "<IPython.lib.display.IFrame at 0x1fc0ec159f0>"
      ]
     },
     "execution_count": 52,
     "metadata": {},
     "output_type": "execute_result"
    }
   ],
   "source": [
    "tableau_url= \"https://public.tableau.com/views/_17313876300530/43?:language=ko-KR&:sid=&:redirect=auth&:display_count=n&:origin=viz_share_link:showVizHome=no&:embed=true\"\n",
    "IFrame(src=tableau_url, width=1000, height=600)"
   ]
  },
  {
   "cell_type": "markdown",
   "metadata": {},
   "source": [
    "- 50대의 시청률이 상당히 높은것을 알수있다.\n",
    "\n",
    "- 대부분의 시청 시간대가 7시~10시30분 사이에 있는것을 볼수있다.\n",
    "\n",
    "- 특히 40대는 10시~10시30분의 시청률이 가파르게 상승하는것을 알수있다. "
   ]
  },
  {
   "cell_type": "code",
   "execution_count": 53,
   "metadata": {},
   "outputs": [
    {
     "data": {
      "text/html": [
       "\n",
       "        <iframe\n",
       "            width=\"1000\"\n",
       "            height=\"600\"\n",
       "            src=\"https://public.tableau.com/views/_17315210610720/22_1?:language=ko-KR&:sid=&:redirect=auth&:display_count=n&:origin=viz_share_link:showVizHome=no&:embed=true\"\n",
       "            frameborder=\"0\"\n",
       "            allowfullscreen\n",
       "            \n",
       "        ></iframe>\n",
       "        "
      ],
      "text/plain": [
       "<IPython.lib.display.IFrame at 0x1fc0ec17670>"
      ]
     },
     "execution_count": 53,
     "metadata": {},
     "output_type": "execute_result"
    }
   ],
   "source": [
    "tableau_url= \"https://public.tableau.com/views/_17315210610720/22_1?:language=ko-KR&:sid=&:redirect=auth&:display_count=n&:origin=viz_share_link:showVizHome=no&:embed=true\"\n",
    "IFrame(src=tableau_url, width=1000, height=600)"
   ]
  },
  {
   "cell_type": "markdown",
   "metadata": {},
   "source": [
    "- 비교적 초반 회차에는 여성의 시청층이 많다.\n",
    "\n",
    "- 하지만 드라마 중반부 부터는 남성의 시청자가 따라잡으며 7,8 회의 경우엔, 오히려 남성층이 더 높은것을 볼수있다. 그리고 다시 드라마 후반부부터는 여성층의 시청층이 많아진다. \n",
    "\n",
    "- 13회 이후의 시청층은 남성이 많거나 비슷한것을 보아, 12회 까지인 미니시리즈 는 여성시청층이 많으며, 그 이외의 드라마는 성별 시청층이 비슷하거나 남성이 많은것을 알수있다.\n",
    "\n",
    "- 드라마의 초기에는 여성시청층이 먼저 형성되고 그 이후에 남성 시청층이 같이 붙게되는것을 알수있다."
   ]
  },
  {
   "cell_type": "code",
   "execution_count": 54,
   "metadata": {},
   "outputs": [
    {
     "data": {
      "text/html": [
       "\n",
       "        <iframe\n",
       "            width=\"1000\"\n",
       "            height=\"600\"\n",
       "            src=\"https://public.tableau.com/views/_17315185946640/4_1?:language=ko-KR&:sid=&:redirect=auth&:display_count=n&:origin=viz_share_link:showVizHome=no&:embed=true\"\n",
       "            frameborder=\"0\"\n",
       "            allowfullscreen\n",
       "            \n",
       "        ></iframe>\n",
       "        "
      ],
      "text/plain": [
       "<IPython.lib.display.IFrame at 0x1fc0ec15450>"
      ]
     },
     "execution_count": 54,
     "metadata": {},
     "output_type": "execute_result"
    }
   ],
   "source": [
    "tableau_url= \"https://public.tableau.com/views/_17315185946640/4_1?:language=ko-KR&:sid=&:redirect=auth&:display_count=n&:origin=viz_share_link:showVizHome=no&:embed=true\"\n",
    "IFrame(src=tableau_url, width=1000, height=600)"
   ]
  },
  {
   "cell_type": "markdown",
   "metadata": {},
   "source": [
    "- 이 그래프에서 역시 50대의 시청률이 상당히 높은것을 볼수있다.\n",
    "\n",
    "- 연령 구분없이 미니시리즈의 시청률이 제일 높다. 두 번째는 일일연속극 이었으며, 이 두가지 드라마가 가장 높은 점유율을 차지하고 있다.\n",
    "\n",
    "- 대체로 여성시청층이 남성시청층보다 더 큰것을 볼수있다."
   ]
  },
  {
   "cell_type": "markdown",
   "metadata": {},
   "source": [
    "# 한국 영화 데이터 시각화"
   ]
  },
  {
   "cell_type": "code",
   "execution_count": 55,
   "metadata": {},
   "outputs": [
    {
     "data": {
      "text/html": [
       "\n",
       "        <iframe\n",
       "            width=\"1000\"\n",
       "            height=\"600\"\n",
       "            src=\"https://public.tableau.com/views/vs_17315826587680/1_1?:language=ko-KR&:sid=&:redirect=auth&:display_count=n&:origin=viz_share_link:showVizHome=no&:embed=true\"\n",
       "            frameborder=\"0\"\n",
       "            allowfullscreen\n",
       "            \n",
       "        ></iframe>\n",
       "        "
      ],
      "text/plain": [
       "<IPython.lib.display.IFrame at 0x1fc0ec15420>"
      ]
     },
     "execution_count": 55,
     "metadata": {},
     "output_type": "execute_result"
    }
   ],
   "source": [
    "tableau_url= \"https://public.tableau.com/views/vs_17315826587680/1_1?:language=ko-KR&:sid=&:redirect=auth&:display_count=n&:origin=viz_share_link:showVizHome=no&:embed=true\"\n",
    "IFrame(src=tableau_url, width=1000, height=600)"
   ]
  },
  {
   "cell_type": "markdown",
   "metadata": {},
   "source": [
    "- 코로나 기간에 급격한 하락이 나타났으며, 2022년에 영화산업의 성장이 눈에 띈다. 특히 한국영화가 해외영화보다 성장을 크게 하였다. 하지만 2023년에 다시 하락을 하며 코로나 기간보다 더크게 하락하였다."
   ]
  },
  {
   "cell_type": "code",
   "execution_count": 56,
   "metadata": {},
   "outputs": [
    {
     "data": {
      "text/html": [
       "\n",
       "        <iframe\n",
       "            width=\"1000\"\n",
       "            height=\"600\"\n",
       "            src=\"https://public.tableau.com/views/_17315854871920/2_1?:language=ko-KR&:sid=&:redirect=auth&:display_count=n&:origin=viz_share_link:showVizHome=no&:embed=true\"\n",
       "            frameborder=\"0\"\n",
       "            allowfullscreen\n",
       "            \n",
       "        ></iframe>\n",
       "        "
      ],
      "text/plain": [
       "<IPython.lib.display.IFrame at 0x1fc0ec14910>"
      ]
     },
     "execution_count": 56,
     "metadata": {},
     "output_type": "execute_result"
    }
   ],
   "source": [
    "tableau_url= \"https://public.tableau.com/views/_17315854871920/2_1?:language=ko-KR&:sid=&:redirect=auth&:display_count=n&:origin=viz_share_link:showVizHome=no&:embed=true\"\n",
    "IFrame(src=tableau_url, width=1000, height=600)"
   ]
  },
  {
   "cell_type": "markdown",
   "metadata": {},
   "source": [
    "- 영화 매출의 대부분은 서울과 경기도에서 차지하는것을 볼수있다.\n",
    "\n",
    "- **눈에 띄는것은 경기도와 다른 지역에서는 해외영화보다 한국영화가 확실한 강세인데, 서울에서는 해외영화가 약간의 강세를 보이고있다.**"
   ]
  },
  {
   "cell_type": "code",
   "execution_count": 57,
   "metadata": {},
   "outputs": [
    {
     "data": {
      "text/html": [
       "\n",
       "        <iframe\n",
       "            width=\"1000\"\n",
       "            height=\"600\"\n",
       "            src=\"https://public.tableau.com/views/_17315862104900/3_1?:language=ko-KR&:sid=&:redirect=auth&:display_count=n&:origin=viz_share_link:showVizHome=no&:embed=true\"\n",
       "            frameborder=\"0\"\n",
       "            allowfullscreen\n",
       "            \n",
       "        ></iframe>\n",
       "        "
      ],
      "text/plain": [
       "<IPython.lib.display.IFrame at 0x1fc0ec174f0>"
      ]
     },
     "execution_count": 57,
     "metadata": {},
     "output_type": "execute_result"
    }
   ],
   "source": [
    "tableau_url= \"https://public.tableau.com/views/_17315862104900/3_1?:language=ko-KR&:sid=&:redirect=auth&:display_count=n&:origin=viz_share_link:showVizHome=no&:embed=true\"\n",
    "IFrame(src=tableau_url, width=1000, height=600)"
   ]
  },
  {
   "cell_type": "markdown",
   "metadata": {},
   "source": [
    "- 전체적으로는 영화 상영수가 많을수록 매출이 높지만, 매출이 높은경우만 필터링했을때는 오히려 상영영화가 많을수록 매출이 감속하는것을 볼수있다.\n",
    "\n",
    "- **매출이 높일려면 영화를 선별하여 상영을 하는것이 더 좋은 전략이 될수도있다.**"
   ]
  },
  {
   "cell_type": "code",
   "execution_count": null,
   "metadata": {},
   "outputs": [],
   "source": []
  }
 ],
 "metadata": {
  "kernelspec": {
   "display_name": "Python 3",
   "language": "python",
   "name": "python3"
  },
  "language_info": {
   "codemirror_mode": {
    "name": "ipython",
    "version": 3
   },
   "file_extension": ".py",
   "mimetype": "text/x-python",
   "name": "python",
   "nbconvert_exporter": "python",
   "pygments_lexer": "ipython3",
   "version": "3.10.2"
  }
 },
 "nbformat": 4,
 "nbformat_minor": 2
}
